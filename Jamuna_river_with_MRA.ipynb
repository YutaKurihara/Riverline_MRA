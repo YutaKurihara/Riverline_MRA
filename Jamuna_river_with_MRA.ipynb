{
  "nbformat": 4,
  "nbformat_minor": 0,
  "metadata": {
    "colab": {
      "provenance": [],
      "authorship_tag": "ABX9TyP7GmiQ2q1lrESjJBu8j49O",
      "include_colab_link": true
    },
    "kernelspec": {
      "name": "python3",
      "display_name": "Python 3"
    },
    "language_info": {
      "name": "python"
    }
  },
  "cells": [
    {
      "cell_type": "markdown",
      "metadata": {
        "id": "view-in-github",
        "colab_type": "text"
      },
      "source": [
        "<a href=\"https://colab.research.google.com/github/YutaKurihara/Riverline_MRA/blob/main/Jamuna_river_with_MRA.ipynb\" target=\"_parent\"><img src=\"https://colab.research.google.com/assets/colab-badge.svg\" alt=\"Open In Colab\"/></a>"
      ]
    },
    {
      "cell_type": "markdown",
      "source": [
        "**Jamuna川河岸形状解析への多重解像度解析の導入**\n",
        "元コード\n",
        "\n",
        "---\n",
        "\n",
        "\n",
        "https://code.earthengine.google.com/aa0bdea506f08e409c221ce0763aac53\n",
        "\n",
        "---\n",
        "\n"
      ],
      "metadata": {
        "id": "GxEN1QndQvZs"
      }
    },
    {
      "cell_type": "code",
      "source": [
        "import ee\n",
        "\n",
        "# Trigger the authentication flow.\n",
        "ee.Authenticate()\n",
        "\n",
        "# Initialize the library.\n",
        "ee.Initialize()"
      ],
      "metadata": {
        "colab": {
          "base_uri": "https://localhost:8080/"
        },
        "id": "liWqw43qSFOw",
        "outputId": "302c65d5-ead3-4e4b-d4ab-02918cb7aa96"
      },
      "execution_count": null,
      "outputs": [
        {
          "output_type": "stream",
          "name": "stdout",
          "text": [
            "To authorize access needed by Earth Engine, open the following URL in a web browser and follow the instructions. If the web browser does not start automatically, please manually browse the URL below.\n",
            "\n",
            "    https://code.earthengine.google.com/client-auth?scopes=https%3A//www.googleapis.com/auth/earthengine%20https%3A//www.googleapis.com/auth/devstorage.full_control&request_id=TqhGMsggGkGF7iMqymEd3EUvHDem12t66x1WFBlJaEA&tc=1jvF3v8QoXBANHHcHSVyzi3poBRkmUvIJxhY3MOZIgE&cc=l8jY_2WTMaCf9GAkS6ao_qwkrc5ivG4H3k12oYJiH3A\n",
            "\n",
            "The authorization workflow will generate a code, which you should paste in the box below.\n",
            "Enter verification code: 4/1AVHEtk4mLOC-eCbaVgmWN2Z1Jq4KOHLMK5Kw4XV_5s1TXUJXYN6XR_9juoI\n",
            "\n",
            "Successfully saved authorization token.\n"
          ]
        }
      ]
    },
    {
      "cell_type": "code",
      "source": [],
      "metadata": {
        "id": "4RjraU7FShVt"
      },
      "execution_count": null,
      "outputs": []
    }
  ]
}